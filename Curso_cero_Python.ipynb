{
  "nbformat": 4,
  "nbformat_minor": 0,
  "metadata": {
    "colab": {
      "provenance": [],
      "authorship_tag": "ABX9TyObVBywja9a6+VyzWHSAi5J",
      "include_colab_link": true
    },
    "kernelspec": {
      "name": "python3",
      "display_name": "Python 3"
    },
    "language_info": {
      "name": "python"
    }
  },
  "cells": [
    {
      "cell_type": "markdown",
      "metadata": {
        "id": "view-in-github",
        "colab_type": "text"
      },
      "source": [
        "<a href=\"https://colab.research.google.com/github/diegoznt/SIC/blob/main/Curso_cero_Python.ipynb\" target=\"_parent\"><img src=\"https://colab.research.google.com/assets/colab-badge.svg\" alt=\"Open In Colab\"/></a>"
      ]
    },
    {
      "cell_type": "markdown",
      "source": [
        "Funcion print y e input\n",
        "\n",
        "\n"
      ],
      "metadata": {
        "id": "II--345AL7tv"
      }
    },
    {
      "cell_type": "code",
      "source": [
        "print('Hola mundo')\n",
        "print('Hola\\nmundo')\n",
        "print(1+3)\n",
        "print('1+3')\n",
        "print(10, 20)\n",
        "print('hola',20+1)\n",
        "print('hola'+'mundo')\n",
        "print('hello '*3)\n",
        "print(2*3)\n",
        "# para imprimir junto con el siguiente print\n",
        "print('hola', end=', ') # con un espacio o puede ser una coma\n",
        "print('mundo')\n",
        "# ahora seleccionamos el separador\n",
        "print('hola','mundo',sep=', ')\n",
        "#print('hola'+30) error"
      ],
      "metadata": {
        "colab": {
          "base_uri": "https://localhost:8080/",
          "height": 384
        },
        "id": "c60vS1s_L-RM",
        "outputId": "f6aece70-1aa0-4e60-97fe-5ed51fe8e009"
      },
      "execution_count": null,
      "outputs": [
        {
          "output_type": "stream",
          "name": "stdout",
          "text": [
            "Hola mundo\n",
            "Hola\n",
            "mundo\n",
            "4\n",
            "1+3\n",
            "10 20\n",
            "hola 21\n",
            "holamundo\n",
            "hello hello hello \n",
            "6\n",
            "hola, mundo\n",
            "hola, mundo\n"
          ]
        },
        {
          "output_type": "error",
          "ename": "TypeError",
          "evalue": "can only concatenate str (not \"int\") to str",
          "traceback": [
            "\u001b[0;31m---------------------------------------------------------------------------\u001b[0m",
            "\u001b[0;31mTypeError\u001b[0m                                 Traceback (most recent call last)",
            "\u001b[0;32m/tmp/ipython-input-19-517750323.py\u001b[0m in \u001b[0;36m<cell line: 0>\u001b[0;34m()\u001b[0m\n\u001b[1;32m     13\u001b[0m \u001b[0;31m# ahora seleccionamos el separador\u001b[0m\u001b[0;34m\u001b[0m\u001b[0;34m\u001b[0m\u001b[0m\n\u001b[1;32m     14\u001b[0m \u001b[0mprint\u001b[0m\u001b[0;34m(\u001b[0m\u001b[0;34m'hola'\u001b[0m\u001b[0;34m,\u001b[0m\u001b[0;34m'mundo'\u001b[0m\u001b[0;34m,\u001b[0m\u001b[0msep\u001b[0m\u001b[0;34m=\u001b[0m\u001b[0;34m', '\u001b[0m\u001b[0;34m)\u001b[0m\u001b[0;34m\u001b[0m\u001b[0;34m\u001b[0m\u001b[0m\n\u001b[0;32m---> 15\u001b[0;31m \u001b[0mprint\u001b[0m\u001b[0;34m(\u001b[0m\u001b[0;34m'hola'\u001b[0m\u001b[0;34m+\u001b[0m\u001b[0;36m30\u001b[0m\u001b[0;34m)\u001b[0m\u001b[0;34m\u001b[0m\u001b[0;34m\u001b[0m\u001b[0m\n\u001b[0m",
            "\u001b[0;31mTypeError\u001b[0m: can only concatenate str (not \"int\") to str"
          ]
        }
      ]
    },
    {
      "cell_type": "code",
      "source": [
        "#Input\n",
        "n=input('Ingrese su nombre ')\n",
        "print('Hola ',n)\n",
        "\n",
        "# para valor numerico hay que convertir el string a numerico\n",
        "x=int(input('numero 1: '))\n",
        "y=int(input('numero 2: '))\n",
        "\n",
        "suma=x+y\n",
        "print('Su num 1 es', x, 'y su num 2 es', y, 'y la suma es', suma)\n",
        "print(type(suma))"
      ],
      "metadata": {
        "colab": {
          "base_uri": "https://localhost:8080/"
        },
        "id": "2eCa1nqvOs-w",
        "outputId": "fccd0f47-abc9-4ca4-8bf8-1611714a37a5"
      },
      "execution_count": null,
      "outputs": [
        {
          "output_type": "stream",
          "name": "stdout",
          "text": [
            "Ingrese su nombre f\n",
            "Hola  f\n",
            "numero 1: 1\n",
            "numero 2: 2\n",
            "Su num 1 es 1 y su num 2 es 2 y la suma es 3\n",
            "<class 'int'>\n"
          ]
        }
      ]
    },
    {
      "cell_type": "markdown",
      "source": [
        "**Errores**\n",
        "\n",
        "error de sintaxis -> syntaxerror\n",
        "\n",
        "error de tiempo de ejecucion -> valueError"
      ],
      "metadata": {
        "id": "GINgji3FUuc6"
      }
    },
    {
      "cell_type": "code",
      "source": [],
      "metadata": {
        "id": "450BywJdUtUB"
      },
      "execution_count": null,
      "outputs": []
    },
    {
      "cell_type": "markdown",
      "source": [
        "# Variables\n",
        "\n"
      ],
      "metadata": {
        "id": "LcNCidzmZggk"
      }
    },
    {
      "cell_type": "code",
      "source": [
        "import keyword\n",
        "peso=7.4\n",
        "persona=('Tu', 7.4) #Tuple\n",
        "type(persona)\n",
        "\n",
        "#Nombres de variables que no se pueden ocupar xq on propias de python\n",
        "print('Lista')\n",
        "print(keyword.kwlist)\n",
        "\n",
        "# SE PUEDEN ASIGNAR UNA O MAS VARIABLES DENTRO DE UNA LINEA DE CODIGO\n",
        "x, y= 10, 1\n",
        "print(x+y)\n",
        "\n",
        "nu1=nu2=3\n",
        "print(nu1,nu2)\n",
        "print(type(100.0))\n",
        "print('a'=='a')\n",
        "print(bool(1))"
      ],
      "metadata": {
        "colab": {
          "base_uri": "https://localhost:8080/"
        },
        "id": "9FDEd7X3Z9Yd",
        "outputId": "e7907b1f-56b1-4068-fe6f-790e23019aa2"
      },
      "execution_count": null,
      "outputs": [
        {
          "output_type": "stream",
          "name": "stdout",
          "text": [
            "Lista\n",
            "['False', 'None', 'True', 'and', 'as', 'assert', 'async', 'await', 'break', 'class', 'continue', 'def', 'del', 'elif', 'else', 'except', 'finally', 'for', 'from', 'global', 'if', 'import', 'in', 'is', 'lambda', 'nonlocal', 'not', 'or', 'pass', 'raise', 'return', 'try', 'while', 'with', 'yield']\n",
            "11\n",
            "3 3\n",
            "<class 'float'>\n",
            "True\n",
            "True\n"
          ]
        }
      ]
    },
    {
      "cell_type": "code",
      "source": [
        "#Ciclo For\n",
        "\n",
        "#for _ in range(5):\n",
        "  #print('BRO')\n",
        "\n",
        "#range(0,5,1)\n",
        "print(list(range(0,5,2)))\n",
        "list(range(0,5,1))\n",
        "\n",
        "s=0\n",
        "for i in range(1,11):\n",
        " s += i\n",
        "print('Suma de numeros del 1 al 10: ',s,i)\n",
        "\n"
      ],
      "metadata": {
        "colab": {
          "base_uri": "https://localhost:8080/"
        },
        "id": "IkO5na5A1FEA",
        "outputId": "ec392cfa-91f0-487c-bd59-0ccd03b72743"
      },
      "execution_count": null,
      "outputs": [
        {
          "output_type": "stream",
          "name": "stdout",
          "text": [
            "[0, 2, 4]\n",
            "Suma de numeros del 1 al 10:  55 10\n"
          ]
        }
      ]
    },
    {
      "cell_type": "code",
      "source": [
        "fact=1\n",
        "x=int(input('numero factorial'))\n",
        "for i in range(x,1,-1):\n",
        " fact=fact*i\n",
        "print('factorial de ',x,' es ', fact )\n",
        "\n"
      ],
      "metadata": {
        "colab": {
          "base_uri": "https://localhost:8080/"
        },
        "id": "M9FCG-Qr25Z-",
        "outputId": "3a206f90-4899-4422-bcdc-08e91018b77e"
      },
      "execution_count": null,
      "outputs": [
        {
          "output_type": "stream",
          "name": "stdout",
          "text": [
            "numero factorial4\n",
            "factorial de  4  es  24\n"
          ]
        }
      ]
    },
    {
      "cell_type": "code",
      "source": [
        "st='hola'\n",
        "print(list(st))\n",
        "\n",
        "for i in 'hola\\n':\n",
        "  print(i,end='')\n",
        "\n",
        "print('s','t','o',sep=',')\n",
        "\n",
        "for i in range(1,11,2):\n",
        "  print(i)"
      ],
      "metadata": {
        "colab": {
          "base_uri": "https://localhost:8080/"
        },
        "id": "l57QWZCu94Ht",
        "outputId": "42ba1653-282c-4a26-a22c-fe34a33ee299"
      },
      "execution_count": null,
      "outputs": [
        {
          "output_type": "stream",
          "name": "stdout",
          "text": [
            "['h', 'o', 'l', 'a']\n",
            "hola\n",
            "s,t,o\n",
            "1\n",
            "3\n",
            "5\n",
            "7\n",
            "9\n"
          ]
        }
      ]
    },
    {
      "cell_type": "code",
      "source": [
        "# WHILE"
      ],
      "metadata": {
        "id": "DO4uxaE2-hEU"
      },
      "execution_count": null,
      "outputs": []
    },
    {
      "cell_type": "code",
      "source": [
        "list(range(1,10,1))\n",
        "\n",
        "dojo=['hol',3,5]\n",
        "olovorgo=[1,3.0]\n",
        "print(dojo)\n",
        "print(dojo[-1])\n",
        "len(dojo)\n",
        "\n",
        "dojo.append(9)\n",
        "print(dojo)\n",
        "\n",
        "# se pueden sumar o concatenar las listas a traves de suma\n",
        "larga=dojo + olovorgo\n",
        "print(larga)\n",
        "dojo.extend(larga)\n",
        "\n",
        "del dojo[1]\n",
        "print(dojo)\n",
        "\n",
        "#elimina ultimo elemento de la lista\n",
        "print(dojo.pop(0))\n",
        "print(dojo)\n",
        "dojo.remove(5)\n",
        "print(dojo)\n",
        "print(dojo[:4])\n",
        "print(dojo[-2:])\n",
        "print(dojo[:-2])\n",
        "print(dojo[::-1]) # nos imprime todos los elementos de la lista pero al reves\n",
        "3 in  dojo # para ver si un elemento existe dentro de la lista\n",
        "3 not in  dojo\n",
        "# en la tupla no se pueden cambiar valores\n",
        "print(dojo)\n",
        "print(dojo[1:3])"
      ],
      "metadata": {
        "colab": {
          "base_uri": "https://localhost:8080/"
        },
        "id": "rloqJUckTSJv",
        "outputId": "e5a28d24-f650-460d-8cc0-c15cdbc05c77"
      },
      "execution_count": null,
      "outputs": [
        {
          "output_type": "stream",
          "name": "stdout",
          "text": [
            "['hol', 3, 5]\n",
            "5\n",
            "['hol', 3, 5, 9]\n",
            "['hol', 3, 5, 9, 1, 3.0]\n",
            "['hol', 5, 9, 'hol', 3, 5, 9, 1, 3.0]\n",
            "hol\n",
            "[5, 9, 'hol', 3, 5, 9, 1, 3.0]\n",
            "[9, 'hol', 3, 5, 9, 1, 3.0]\n",
            "[9, 'hol', 3, 5]\n",
            "[1, 3.0]\n",
            "[9, 'hol', 3, 5, 9]\n",
            "[3.0, 1, 9, 5, 3, 'hol', 9]\n",
            "[9, 'hol', 3, 5, 9, 1, 3.0]\n",
            "['hol', 3]\n"
          ]
        }
      ]
    },
    {
      "cell_type": "code",
      "source": [
        "a='HHh'\n",
        "print(a.count('H'))\n",
        "\n",
        "\n",
        "(\"x\",)*3\n"
      ],
      "metadata": {
        "id": "wg1TlaeEX-ge",
        "colab": {
          "base_uri": "https://localhost:8080/"
        },
        "outputId": "a990b39e-4216-4b85-9b3a-8a60849cbdf9"
      },
      "execution_count": null,
      "outputs": [
        {
          "output_type": "stream",
          "name": "stdout",
          "text": [
            "2\n"
          ]
        },
        {
          "output_type": "execute_result",
          "data": {
            "text/plain": [
              "('x', 'x', 'x')"
            ]
          },
          "metadata": {},
          "execution_count": 7
        }
      ]
    }
  ]
}