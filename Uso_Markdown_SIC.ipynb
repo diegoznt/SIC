{
  "nbformat": 4,
  "nbformat_minor": 0,
  "metadata": {
    "colab": {
      "provenance": [],
      "authorship_tag": "ABX9TyO0xBIbG9CSdjX4Z+8eymED",
      "include_colab_link": true
    },
    "kernelspec": {
      "name": "python3",
      "display_name": "Python 3"
    },
    "language_info": {
      "name": "python"
    }
  },
  "cells": [
    {
      "cell_type": "markdown",
      "metadata": {
        "id": "view-in-github",
        "colab_type": "text"
      },
      "source": [
        "<a href=\"https://colab.research.google.com/github/diegoznt/SIC/blob/main/Uso_Markdown_SIC.ipynb\" target=\"_parent\"><img src=\"https://colab.research.google.com/assets/colab-badge.svg\" alt=\"Open In Colab\"/></a>"
      ]
    },
    {
      "cell_type": "markdown",
      "source": [
        "# Quienes somos\n",
        "## Quienes somos\n",
        "### Quienes somos\n",
        "\n",
        "\n",
        "> ## 500\n",
        "> en el 6 ya no disminuye tamaño\n",
        "\n",
        "\n",
        "\n",
        "La **politcia**\n",
        "\n",
        "Para imagenes sin tener que descargarlas\n",
        "\n",
        "![Imagen geo](https://www.cotecno.cl/wp-content/uploads/2022/07/Diseno-sin-titulo-8-1200x675.png)"
      ],
      "metadata": {
        "id": "PjOV9uthNdoz"
      }
    }
  ]
}